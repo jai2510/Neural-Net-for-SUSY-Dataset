{
  "nbformat": 4,
  "nbformat_minor": 0,
  "metadata": {
    "colab": {
      "name": "SUSY NN.ipynb",
      "provenance": []
    },
    "kernelspec": {
      "name": "python3",
      "display_name": "Python 3"
    },
    "accelerator": "GPU"
  },
  "cells": [
    {
      "cell_type": "code",
      "metadata": {
        "id": "i46xsgTMROQk",
        "colab_type": "code",
        "colab": {}
      },
      "source": [
        "import pandas as pd\n",
        "import numpy as np\n",
        "import matplotlib.pyplot as plt"
      ],
      "execution_count": 1,
      "outputs": []
    },
    {
      "cell_type": "code",
      "metadata": {
        "id": "1rZMdCK_RbsP",
        "colab_type": "code",
        "colab": {
          "base_uri": "https://localhost:8080/",
          "height": 413
        },
        "outputId": "2a6425f4-bd96-49aa-cc9d-343960b493eb"
      },
      "source": [
        "columns=[\"signal\", \"lepton 1 pT\", \"lepton 1 eta\", \"lepton 1 phi\", \"lepton 2 pT\", \"lepton 2 eta\", \n",
        "         \"lepton 2 phi\", \"missing energy magnitude\", \"missing energy phi\", \"MET_rel\", \n",
        "         \"axial MET\", \"M_R\", \"M_TR_2\", \"R\", \"MT2\", \"S_R\", \"M_Delta_R\", \"dPhi_r_b\", \"cos(theta_r1)\"]\n",
        "\n",
        "train_dataset = pd.read_csv('/content/drive/My Drive/SUSY.csv', names=columns, nrows=1500000)\n",
        "test_dataset = pd.read_csv('/content/drive/My Drive/SUSY.csv', names=columns, nrows=50000)\n",
        "\n",
        "train_dataset.head(10)"
      ],
      "execution_count": 4,
      "outputs": [
        {
          "output_type": "execute_result",
          "data": {
            "text/html": [
              "<div>\n",
              "<style scoped>\n",
              "    .dataframe tbody tr th:only-of-type {\n",
              "        vertical-align: middle;\n",
              "    }\n",
              "\n",
              "    .dataframe tbody tr th {\n",
              "        vertical-align: top;\n",
              "    }\n",
              "\n",
              "    .dataframe thead th {\n",
              "        text-align: right;\n",
              "    }\n",
              "</style>\n",
              "<table border=\"1\" class=\"dataframe\">\n",
              "  <thead>\n",
              "    <tr style=\"text-align: right;\">\n",
              "      <th></th>\n",
              "      <th>signal</th>\n",
              "      <th>lepton 1 pT</th>\n",
              "      <th>lepton 1 eta</th>\n",
              "      <th>lepton 1 phi</th>\n",
              "      <th>lepton 2 pT</th>\n",
              "      <th>lepton 2 eta</th>\n",
              "      <th>lepton 2 phi</th>\n",
              "      <th>missing energy magnitude</th>\n",
              "      <th>missing energy phi</th>\n",
              "      <th>MET_rel</th>\n",
              "      <th>axial MET</th>\n",
              "      <th>M_R</th>\n",
              "      <th>M_TR_2</th>\n",
              "      <th>R</th>\n",
              "      <th>MT2</th>\n",
              "      <th>S_R</th>\n",
              "      <th>M_Delta_R</th>\n",
              "      <th>dPhi_r_b</th>\n",
              "      <th>cos(theta_r1)</th>\n",
              "    </tr>\n",
              "  </thead>\n",
              "  <tbody>\n",
              "    <tr>\n",
              "      <th>0</th>\n",
              "      <td>0.0</td>\n",
              "      <td>0.972861</td>\n",
              "      <td>0.653855</td>\n",
              "      <td>1.176225</td>\n",
              "      <td>1.157156</td>\n",
              "      <td>-1.739873</td>\n",
              "      <td>-0.874309</td>\n",
              "      <td>0.567765</td>\n",
              "      <td>-0.175000</td>\n",
              "      <td>0.810061</td>\n",
              "      <td>-0.252552</td>\n",
              "      <td>1.921887</td>\n",
              "      <td>0.889637</td>\n",
              "      <td>0.410772</td>\n",
              "      <td>1.145621</td>\n",
              "      <td>1.932632</td>\n",
              "      <td>0.994464</td>\n",
              "      <td>1.367815</td>\n",
              "      <td>0.040714</td>\n",
              "    </tr>\n",
              "    <tr>\n",
              "      <th>1</th>\n",
              "      <td>1.0</td>\n",
              "      <td>1.667973</td>\n",
              "      <td>0.064191</td>\n",
              "      <td>-1.225171</td>\n",
              "      <td>0.506102</td>\n",
              "      <td>-0.338939</td>\n",
              "      <td>1.672543</td>\n",
              "      <td>3.475464</td>\n",
              "      <td>-1.219136</td>\n",
              "      <td>0.012955</td>\n",
              "      <td>3.775174</td>\n",
              "      <td>1.045977</td>\n",
              "      <td>0.568051</td>\n",
              "      <td>0.481928</td>\n",
              "      <td>0.000000</td>\n",
              "      <td>0.448410</td>\n",
              "      <td>0.205356</td>\n",
              "      <td>1.321893</td>\n",
              "      <td>0.377584</td>\n",
              "    </tr>\n",
              "    <tr>\n",
              "      <th>2</th>\n",
              "      <td>1.0</td>\n",
              "      <td>0.444840</td>\n",
              "      <td>-0.134298</td>\n",
              "      <td>-0.709972</td>\n",
              "      <td>0.451719</td>\n",
              "      <td>-1.613871</td>\n",
              "      <td>-0.768661</td>\n",
              "      <td>1.219918</td>\n",
              "      <td>0.504026</td>\n",
              "      <td>1.831248</td>\n",
              "      <td>-0.431385</td>\n",
              "      <td>0.526283</td>\n",
              "      <td>0.941514</td>\n",
              "      <td>1.587535</td>\n",
              "      <td>2.024308</td>\n",
              "      <td>0.603498</td>\n",
              "      <td>1.562374</td>\n",
              "      <td>1.135454</td>\n",
              "      <td>0.180910</td>\n",
              "    </tr>\n",
              "    <tr>\n",
              "      <th>3</th>\n",
              "      <td>1.0</td>\n",
              "      <td>0.381256</td>\n",
              "      <td>-0.976145</td>\n",
              "      <td>0.693152</td>\n",
              "      <td>0.448959</td>\n",
              "      <td>0.891753</td>\n",
              "      <td>-0.677328</td>\n",
              "      <td>2.033060</td>\n",
              "      <td>1.533041</td>\n",
              "      <td>3.046260</td>\n",
              "      <td>-1.005285</td>\n",
              "      <td>0.569386</td>\n",
              "      <td>1.015211</td>\n",
              "      <td>1.582217</td>\n",
              "      <td>1.551914</td>\n",
              "      <td>0.761215</td>\n",
              "      <td>1.715464</td>\n",
              "      <td>1.492257</td>\n",
              "      <td>0.090719</td>\n",
              "    </tr>\n",
              "    <tr>\n",
              "      <th>4</th>\n",
              "      <td>1.0</td>\n",
              "      <td>1.309996</td>\n",
              "      <td>-0.690089</td>\n",
              "      <td>-0.676259</td>\n",
              "      <td>1.589283</td>\n",
              "      <td>-0.693326</td>\n",
              "      <td>0.622907</td>\n",
              "      <td>1.087562</td>\n",
              "      <td>-0.381742</td>\n",
              "      <td>0.589204</td>\n",
              "      <td>1.365479</td>\n",
              "      <td>1.179295</td>\n",
              "      <td>0.968218</td>\n",
              "      <td>0.728563</td>\n",
              "      <td>0.000000</td>\n",
              "      <td>1.083158</td>\n",
              "      <td>0.043429</td>\n",
              "      <td>1.154854</td>\n",
              "      <td>0.094859</td>\n",
              "    </tr>\n",
              "    <tr>\n",
              "      <th>5</th>\n",
              "      <td>0.0</td>\n",
              "      <td>0.456398</td>\n",
              "      <td>1.099371</td>\n",
              "      <td>1.512453</td>\n",
              "      <td>0.751772</td>\n",
              "      <td>0.638967</td>\n",
              "      <td>-0.742216</td>\n",
              "      <td>0.322601</td>\n",
              "      <td>1.321054</td>\n",
              "      <td>0.169502</td>\n",
              "      <td>0.359941</td>\n",
              "      <td>0.489256</td>\n",
              "      <td>0.416168</td>\n",
              "      <td>0.754829</td>\n",
              "      <td>0.303750</td>\n",
              "      <td>0.461067</td>\n",
              "      <td>0.345541</td>\n",
              "      <td>0.733242</td>\n",
              "      <td>0.186044</td>\n",
              "    </tr>\n",
              "    <tr>\n",
              "      <th>6</th>\n",
              "      <td>0.0</td>\n",
              "      <td>0.437818</td>\n",
              "      <td>-1.119883</td>\n",
              "      <td>-1.336823</td>\n",
              "      <td>0.502320</td>\n",
              "      <td>-1.717515</td>\n",
              "      <td>1.017067</td>\n",
              "      <td>0.215619</td>\n",
              "      <td>-0.461200</td>\n",
              "      <td>0.323671</td>\n",
              "      <td>0.173626</td>\n",
              "      <td>0.411898</td>\n",
              "      <td>0.370525</td>\n",
              "      <td>0.798260</td>\n",
              "      <td>0.671369</td>\n",
              "      <td>0.385910</td>\n",
              "      <td>0.515522</td>\n",
              "      <td>0.479110</td>\n",
              "      <td>0.029058</td>\n",
              "    </tr>\n",
              "    <tr>\n",
              "      <th>7</th>\n",
              "      <td>0.0</td>\n",
              "      <td>0.571656</td>\n",
              "      <td>0.205696</td>\n",
              "      <td>0.425950</td>\n",
              "      <td>0.578514</td>\n",
              "      <td>0.927399</td>\n",
              "      <td>-1.101478</td>\n",
              "      <td>0.116555</td>\n",
              "      <td>1.549753</td>\n",
              "      <td>0.174421</td>\n",
              "      <td>0.223450</td>\n",
              "      <td>0.523164</td>\n",
              "      <td>0.289889</td>\n",
              "      <td>0.491710</td>\n",
              "      <td>0.334593</td>\n",
              "      <td>0.514246</td>\n",
              "      <td>0.268207</td>\n",
              "      <td>0.315795</td>\n",
              "      <td>0.125728</td>\n",
              "    </tr>\n",
              "    <tr>\n",
              "      <th>8</th>\n",
              "      <td>1.0</td>\n",
              "      <td>2.112812</td>\n",
              "      <td>0.742983</td>\n",
              "      <td>-0.330539</td>\n",
              "      <td>0.805253</td>\n",
              "      <td>-0.028887</td>\n",
              "      <td>-1.446679</td>\n",
              "      <td>2.299946</td>\n",
              "      <td>1.450429</td>\n",
              "      <td>2.989110</td>\n",
              "      <td>-1.894770</td>\n",
              "      <td>1.445125</td>\n",
              "      <td>2.548166</td>\n",
              "      <td>1.564721</td>\n",
              "      <td>2.393632</td>\n",
              "      <td>1.554566</td>\n",
              "      <td>2.148468</td>\n",
              "      <td>1.179117</td>\n",
              "      <td>0.688057</td>\n",
              "    </tr>\n",
              "    <tr>\n",
              "      <th>9</th>\n",
              "      <td>0.0</td>\n",
              "      <td>1.001869</td>\n",
              "      <td>-0.471788</td>\n",
              "      <td>0.555614</td>\n",
              "      <td>1.233368</td>\n",
              "      <td>1.255548</td>\n",
              "      <td>-1.052491</td>\n",
              "      <td>0.437615</td>\n",
              "      <td>-1.333052</td>\n",
              "      <td>0.326858</td>\n",
              "      <td>-0.111678</td>\n",
              "      <td>1.435708</td>\n",
              "      <td>0.755201</td>\n",
              "      <td>0.466779</td>\n",
              "      <td>0.454541</td>\n",
              "      <td>1.446331</td>\n",
              "      <td>0.592259</td>\n",
              "      <td>1.325197</td>\n",
              "      <td>0.083014</td>\n",
              "    </tr>\n",
              "  </tbody>\n",
              "</table>\n",
              "</div>"
            ],
            "text/plain": [
              "   signal  lepton 1 pT  lepton 1 eta  ...  M_Delta_R  dPhi_r_b  cos(theta_r1)\n",
              "0     0.0     0.972861      0.653855  ...   0.994464  1.367815       0.040714\n",
              "1     1.0     1.667973      0.064191  ...   0.205356  1.321893       0.377584\n",
              "2     1.0     0.444840     -0.134298  ...   1.562374  1.135454       0.180910\n",
              "3     1.0     0.381256     -0.976145  ...   1.715464  1.492257       0.090719\n",
              "4     1.0     1.309996     -0.690089  ...   0.043429  1.154854       0.094859\n",
              "5     0.0     0.456398      1.099371  ...   0.345541  0.733242       0.186044\n",
              "6     0.0     0.437818     -1.119883  ...   0.515522  0.479110       0.029058\n",
              "7     0.0     0.571656      0.205696  ...   0.268207  0.315795       0.125728\n",
              "8     1.0     2.112812      0.742983  ...   2.148468  1.179117       0.688057\n",
              "9     0.0     1.001869     -0.471788  ...   0.592259  1.325197       0.083014\n",
              "\n",
              "[10 rows x 19 columns]"
            ]
          },
          "metadata": {
            "tags": []
          },
          "execution_count": 4
        }
      ]
    },
    {
      "cell_type": "code",
      "metadata": {
        "id": "iPrF-yl4ReR8",
        "colab_type": "code",
        "colab": {}
      },
      "source": [
        "train_features = np.array(train_dataset.iloc[:,1:])\n",
        "train_labels = np.array(train_dataset[\"signal\"])\n",
        "\n",
        "test_features = np.array(test_dataset.iloc[:,1:])\n",
        "test_labels = test_dataset[\"signal\"]"
      ],
      "execution_count": 5,
      "outputs": []
    },
    {
      "cell_type": "code",
      "metadata": {
        "id": "o6hsfVRKRydU",
        "colab_type": "code",
        "colab": {
          "base_uri": "https://localhost:8080/",
          "height": 34
        },
        "outputId": "f0f788b5-d6a6-4529-da24-12f435602d36"
      },
      "source": [
        "train_features.shape"
      ],
      "execution_count": 6,
      "outputs": [
        {
          "output_type": "execute_result",
          "data": {
            "text/plain": [
              "(1500000, 18)"
            ]
          },
          "metadata": {
            "tags": []
          },
          "execution_count": 6
        }
      ]
    },
    {
      "cell_type": "code",
      "metadata": {
        "id": "TjSUNemcR1n6",
        "colab_type": "code",
        "colab": {
          "base_uri": "https://localhost:8080/",
          "height": 34
        },
        "outputId": "9b6f3dc7-bdbb-4883-cfb3-22479b95c536"
      },
      "source": [
        "test_labels.shape"
      ],
      "execution_count": 7,
      "outputs": [
        {
          "output_type": "execute_result",
          "data": {
            "text/plain": [
              "(50000,)"
            ]
          },
          "metadata": {
            "tags": []
          },
          "execution_count": 7
        }
      ]
    },
    {
      "cell_type": "code",
      "metadata": {
        "id": "oY2FSB6ZR3Po",
        "colab_type": "code",
        "colab": {
          "base_uri": "https://localhost:8080/",
          "height": 34
        },
        "outputId": "ca227d2e-2d6c-4eaa-d904-40d65e25334f"
      },
      "source": [
        "from keras import models, layers, optimizers\n",
        "\n",
        "model = models.Sequential()\n",
        "\n",
        "model.add(layers.Dense(16, input_shape=(18, ), activation='relu'))\n",
        "model.add(layers.Dense(32, activation='relu'))\n",
        "model.add(layers.Dense(64, activation='relu'))\n",
        "model.add(layers.Dense(128, activation='relu'))\n",
        "model.add(layers.Dense(256, activation='relu'))\n",
        "model.add(layers.Dense(1, activation='sigmoid'))\n",
        "\n",
        "model.compile(loss='binary_crossentropy', optimizer='rmsprop', metrics=['accuracy'])"
      ],
      "execution_count": 8,
      "outputs": [
        {
          "output_type": "stream",
          "text": [
            "Using TensorFlow backend.\n"
          ],
          "name": "stderr"
        }
      ]
    },
    {
      "cell_type": "code",
      "metadata": {
        "id": "As66RMnYR48f",
        "colab_type": "code",
        "colab": {
          "base_uri": "https://localhost:8080/",
          "height": 731
        },
        "outputId": "fa8c4071-b273-4338-f109-7c682f0aedae"
      },
      "source": [
        "model.fit(train_features, train_labels,epochs=20, batch_size=100, validation_split=0.02)"
      ],
      "execution_count": 9,
      "outputs": [
        {
          "output_type": "stream",
          "text": [
            "Train on 1470000 samples, validate on 30000 samples\n",
            "Epoch 1/20\n",
            "1470000/1470000 [==============================] - 51s 35us/step - loss: 0.4448 - accuracy: 0.7947 - val_loss: 0.4334 - val_accuracy: 0.8010\n",
            "Epoch 2/20\n",
            "1470000/1470000 [==============================] - 48s 32us/step - loss: 0.4405 - accuracy: 0.7979 - val_loss: 0.4444 - val_accuracy: 0.7995\n",
            "Epoch 3/20\n",
            "1470000/1470000 [==============================] - 49s 33us/step - loss: 0.4395 - accuracy: 0.7987 - val_loss: 0.4320 - val_accuracy: 0.8027\n",
            "Epoch 4/20\n",
            "1470000/1470000 [==============================] - 48s 33us/step - loss: 0.4391 - accuracy: 0.7989 - val_loss: 0.4325 - val_accuracy: 0.8021\n",
            "Epoch 5/20\n",
            "1470000/1470000 [==============================] - 49s 33us/step - loss: 0.4393 - accuracy: 0.7989 - val_loss: 0.4475 - val_accuracy: 0.7975\n",
            "Epoch 6/20\n",
            "1470000/1470000 [==============================] - 49s 33us/step - loss: 0.4398 - accuracy: 0.7990 - val_loss: 0.4391 - val_accuracy: 0.7992\n",
            "Epoch 7/20\n",
            "1470000/1470000 [==============================] - 48s 33us/step - loss: 0.4403 - accuracy: 0.7990 - val_loss: 0.4353 - val_accuracy: 0.8032\n",
            "Epoch 8/20\n",
            "1470000/1470000 [==============================] - 48s 33us/step - loss: 0.4395 - accuracy: 0.7987 - val_loss: 0.4298 - val_accuracy: 0.8060\n",
            "Epoch 9/20\n",
            "1470000/1470000 [==============================] - 49s 33us/step - loss: 0.4397 - accuracy: 0.7991 - val_loss: 0.4346 - val_accuracy: 0.8033\n",
            "Epoch 10/20\n",
            "1470000/1470000 [==============================] - 49s 33us/step - loss: 0.4403 - accuracy: 0.7989 - val_loss: 0.4313 - val_accuracy: 0.8027\n",
            "Epoch 11/20\n",
            "1470000/1470000 [==============================] - 48s 32us/step - loss: 0.4405 - accuracy: 0.7990 - val_loss: 0.4297 - val_accuracy: 0.8028\n",
            "Epoch 12/20\n",
            "1470000/1470000 [==============================] - 47s 32us/step - loss: 0.4419 - accuracy: 0.7988 - val_loss: 0.4391 - val_accuracy: 0.8025\n",
            "Epoch 13/20\n",
            "1470000/1470000 [==============================] - 49s 33us/step - loss: 0.4419 - accuracy: 0.7989 - val_loss: 0.4432 - val_accuracy: 0.7994\n",
            "Epoch 14/20\n",
            "1470000/1470000 [==============================] - 47s 32us/step - loss: 0.4427 - accuracy: 0.7986 - val_loss: 0.4319 - val_accuracy: 0.8036\n",
            "Epoch 15/20\n",
            "1470000/1470000 [==============================] - 48s 33us/step - loss: 0.4438 - accuracy: 0.7986 - val_loss: 0.4319 - val_accuracy: 0.8037\n",
            "Epoch 16/20\n",
            "1470000/1470000 [==============================] - 50s 34us/step - loss: 0.4439 - accuracy: 0.7985 - val_loss: 0.4332 - val_accuracy: 0.8039\n",
            "Epoch 17/20\n",
            "1470000/1470000 [==============================] - 50s 34us/step - loss: 0.4441 - accuracy: 0.7987 - val_loss: 0.4461 - val_accuracy: 0.7975\n",
            "Epoch 18/20\n",
            "1470000/1470000 [==============================] - 49s 33us/step - loss: 0.4435 - accuracy: 0.7985 - val_loss: 0.4786 - val_accuracy: 0.8016\n",
            "Epoch 19/20\n",
            "1470000/1470000 [==============================] - 49s 33us/step - loss: 0.4437 - accuracy: 0.7981 - val_loss: 0.4404 - val_accuracy: 0.8020\n",
            "Epoch 20/20\n",
            "1470000/1470000 [==============================] - 48s 33us/step - loss: 0.4442 - accuracy: 0.7980 - val_loss: 0.4373 - val_accuracy: 0.8049\n"
          ],
          "name": "stdout"
        },
        {
          "output_type": "execute_result",
          "data": {
            "text/plain": [
              "<keras.callbacks.callbacks.History at 0x7f2300109e48>"
            ]
          },
          "metadata": {
            "tags": []
          },
          "execution_count": 9
        }
      ]
    },
    {
      "cell_type": "code",
      "metadata": {
        "id": "kkdLN8HfR9D-",
        "colab_type": "code",
        "colab": {}
      },
      "source": [
        ""
      ],
      "execution_count": null,
      "outputs": []
    }
  ]
}